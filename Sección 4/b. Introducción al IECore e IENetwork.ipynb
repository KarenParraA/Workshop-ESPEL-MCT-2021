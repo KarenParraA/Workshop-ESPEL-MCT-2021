{
 "cells": [
  {
   "cell_type": "markdown",
   "metadata": {},
   "source": [
    "#  Introducción al IECore e IENetwork\n",
    "\n",
    "Para poder interactuar con el Motor de Inferencia de Intel(Inference Engine) es necesario utilizar \n",
    "\n",
    "![IE CORE](https://docs.openvinotoolkit.org/latest/integration_process.png)\n",
    "<div align=\"center\"><b>Fig 1.</b> Aplicación del Optimizador de Modelos para procesar un modelo pre-entrenado [1]</div>\n",
    "\n",
    "## IE Core\n",
    "\n",
    "## IE Network\n",
    "\n"
   ]
  },
  {
   "cell_type": "markdown",
   "metadata": {},
   "source": [
    "## Referencias"
   ]
  }
 ],
 "metadata": {
  "kernelspec": {
   "display_name": "Python 3",
   "language": "python",
   "name": "python3"
  },
  "language_info": {
   "codemirror_mode": {
    "name": "ipython",
    "version": 3
   },
   "file_extension": ".py",
   "mimetype": "text/x-python",
   "name": "python",
   "nbconvert_exporter": "python",
   "pygments_lexer": "ipython3",
   "version": "3.8.10"
  }
 },
 "nbformat": 4,
 "nbformat_minor": 4
}
