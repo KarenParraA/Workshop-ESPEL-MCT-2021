{
 "cells": [
  {
   "cell_type": "markdown",
   "metadata": {},
   "source": [
    "# Instalación del Kit de Herramientas de OpenVINO\n",
    "Para instalar el paquete de OpenVINO es necesario seguir una serie de pasos, los instaladores se pueden encontrar en la página de Intel o sino en la siguiente carpeta compartida que usa los elementos necesarios para este curso: \n",
    "- [Instaladores Windows](https://drive.google.com/drive/folders/1dLVGbT-052sVPL2zuzXi2af3_egSdla3?usp=sharing)\n",
    "- [Instaladores Linux](https://drive.google.com/drive/folders/1azB4vdKCS05GnVEhwk_E_Hed5FBh9_Wf?usp=sharing)\n",
    "\n",
    "Las herramientas necesarias para el presente curso son: \n",
    "- Inference Engine\n",
    "- Model Optimizer\n",
    "- Post-training Optimization Tool\n",
    "- Deep Learning Workbench\n",
    "- OpenCV\n",
    "- Open Model Zoo\n"
   ]
  },
  {
   "cell_type": "markdown",
   "metadata": {},
   "source": [
    "## Instalación del Paquete Completo\n",
    "El paquete completo, contiene toda la gama de herramientas del Intel Toolkit y es recomendable instalarlo en un computador destinado para el desarrollo de soluciones de frontera o IoT."
   ]
  },
  {
   "cell_type": "markdown",
   "metadata": {},
   "source": [
    "### Instalación en Windows 10"
   ]
  },
  {
   "cell_type": "markdown",
   "metadata": {},
   "source": [
    "### Instalación en Linux\n",
    "La guía oficial para la instalación en Linux se puede encontrar en el siguiente [Link](https://docs.openvinotoolkit.org/latest/openvino_docs_get_started_get_started_linux.html)\n",
    "\n",
    "#### Recomendaciones\n",
    "Una vez descargado el archivo de instalación(Se recomienda descargar el Archivo Personalizable para elegir los componentes que se vayan a usar), se descomprime y se cambia de directorio, en este caso \n",
    "```bash\n",
    "cd l_openvino_toolkit_p_2021.4.582_online/\n",
    "```\n",
    "\n",
    "Se instala los prerequisitos que están como script en dicha carpeta\n",
    "```bash\n",
    "sudo ./install_openvino_dependencies.sh\n",
    "```\n",
    "También es recomendable instalar a través de la interfaz gráfica por lo que se puede iniciar el instalador con el siguiente comando: \n",
    "```bash\n",
    "sudo ./install_GUI.sh\n",
    "```\n",
    "Como se puede ver en la siguiente imágen\n",
    "\n",
    "![OpenVINO Installation Linux](Imágenes/openvino_linux.png)\n"
   ]
  },
  {
   "cell_type": "markdown",
   "metadata": {},
   "source": [
    "## Instalación del Paquete Runtime\n",
    "Este paquete está solo destinado para la instalación en el dispositivo final, o para pequeñas pruebas, pues contiene los componentes necesarios para realizar la inferencia. Hay muchas formas para poder instalar este paquete, como se muestran en el siguiente [Documento](https://docs.openvinotoolkit.org/2021.4/openvino_docs_install_guides_installing_openvino_pip.html) pero la más sencilla para instalar el Paquete de Python es a través del Repositorio PyPi con ala aplicación pip\n",
    "\n",
    "```bash\n",
    "pip install openvino\n",
    "```"
   ]
  }
 ],
 "metadata": {
  "kernelspec": {
   "display_name": "Python 3",
   "language": "python",
   "name": "python3"
  },
  "language_info": {
   "codemirror_mode": {
    "name": "ipython",
    "version": 3
   },
   "file_extension": ".py",
   "mimetype": "text/x-python",
   "name": "python",
   "nbconvert_exporter": "python",
   "pygments_lexer": "ipython3",
   "version": "3.7.6"
  }
 },
 "nbformat": 4,
 "nbformat_minor": 4
}
