{
 "cells": [
  {
   "cell_type": "markdown",
   "metadata": {},
   "source": [
    "# Aplicaciones"
   ]
  },
  {
   "cell_type": "markdown",
   "metadata": {},
   "source": [
    "Las aplicaciones de los dispositivos de frontera son muy variadas, pudiendo esta tecnología estar presente en varias ciencias como el transporte, la salud, la edificios inteligentes, entre muchas otras"
   ]
  },
  {
   "cell_type": "markdown",
   "metadata": {},
   "source": [
    "## Aplicaciones en la transportación "
   ]
  },
  {
   "cell_type": "markdown",
   "metadata": {},
   "source": [
    "- Procesamiento de entorno y condiciones ambientales en vehículos autónomos de Nive de Inteligencia 4\n",
    "- Sistemas de alerta de eventos en sistemas de logística como entrega de paquetes(llegar tarde)\n",
    "- Monitoreo de tráfico y respuesta de transporte público bajo demanda\n",
    "- Futuro manejo de flujo de autos (al abrir o cerrar más o menos vías )"
   ]
  },
  {
   "cell_type": "markdown",
   "metadata": {},
   "source": [
    "## Aplicaciones en la salud"
   ]
  },
  {
   "cell_type": "markdown",
   "metadata": {},
   "source": [
    "En esta aplicación, el tiempo de reacción es precisamente crítico\n",
    "- Dispositivos para el monitoreo pacientes crónicos\n",
    "- Robots de cirugía(Análisis de datos en tiempo real)\n",
    "- Dispositivos para recolección de datos para diagnóstico o tratamiento"
   ]
  },
  {
   "cell_type": "markdown",
   "metadata": {},
   "source": [
    "## Aplicaciones en Edificios Inteligentes"
   ]
  },
  {
   "cell_type": "markdown",
   "metadata": {},
   "source": [
    "- Sistemas de seguridad de edificios\n",
    "- Altavoces inteligentes\n",
    "- Recolección de datos de los eedificios\n",
    "- Centrales distribuidas de control, sensorización y monitoreo"
   ]
  },
  {
   "cell_type": "markdown",
   "metadata": {},
   "source": [
    "## Aplicaciones en la Manufactura"
   ]
  },
  {
   "cell_type": "markdown",
   "metadata": {},
   "source": [
    "- Mantenimiento preventivo mediante el monitoreo de variables del sistema\n",
    "- Aplicaciones de sistemas ciberfísicos\n",
    "- Monitoreo y control de procesos"
   ]
  }
 ],
 "metadata": {
  "kernelspec": {
   "display_name": "Python 3 (ipykernel)",
   "language": "python",
   "name": "python3"
  },
  "language_info": {
   "codemirror_mode": {
    "name": "ipython",
    "version": 3
   },
   "file_extension": ".py",
   "mimetype": "text/x-python",
   "name": "python",
   "nbconvert_exporter": "python",
   "pygments_lexer": "ipython3",
   "version": "3.8.10"
  }
 },
 "nbformat": 4,
 "nbformat_minor": 4
}
