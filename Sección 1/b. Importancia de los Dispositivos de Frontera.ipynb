{
 "cells": [
  {
   "cell_type": "markdown",
   "metadata": {},
   "source": [
    "# Importancia de los dispositivos de Frontera"
   ]
  },
  {
   "cell_type": "markdown",
   "metadata": {},
   "source": [
    "Según Gartner, \"el 91% del total de los datos son creados y procesados y procesados en centros de datos centralizados. Para el 2020, alrededor del 75% de los datos necesitarán analysis y acción cerca del proceso\"\n",
    "\n",
    "La importancia de los Dispositivo de frontera se puede verificar en varios ámbitos como el económico, logístico y comunicaciones, como se puede ver las siguientes subsecciones"
   ]
  },
  {
   "cell_type": "markdown",
   "metadata": {},
   "source": [
    "## Importancia Económica"
   ]
  },
  {
   "cell_type": "markdown",
   "metadata": {},
   "source": [
    "- Permite la transformación e inclusión en la nueva revolución de dispositivos de servicio y manufactura\n",
    "- Promueve un sistema de negocios ágil, que abarata costos, agil y muy responsivo\n",
    "- Fácil escalamiento de los dispositivos con la expansión del negocio sin tener que expandir más centros de datos centralizados.\n",
    "- Bajo consumo energético\n",
    "- Comercialización más rápida de estos productos"
   ]
  },
  {
   "cell_type": "markdown",
   "metadata": {},
   "source": [
    "## Importancia Logística"
   ]
  },
  {
   "cell_type": "markdown",
   "metadata": {},
   "source": [
    "- Poder recolectar y analizar información cerca de donde se produce el proceso\n",
    "- Muy baja latencia al tener poca distancia entre el dispositivo y el proceso\n",
    "- Permite obtener sistemas flexibles, escalables, seguros y con mayor automatización"
   ]
  },
  {
   "cell_type": "markdown",
   "metadata": {},
   "source": [
    "## Importancia en la seguridad"
   ]
  },
  {
   "cell_type": "markdown",
   "metadata": {},
   "source": [
    "- Aumento de la privacidad en ciertas áreas, pues no todos los datos son compartidos a un servidor principal\n",
    "- Respuesta inmediata en sectores críticos como en los de la educación\n",
    "- Con la adecuada seguridad informática, hay dificultad de ser susceptibles a ataques DDos o hackeo."
   ]
  },
  {
   "cell_type": "markdown",
   "metadata": {},
   "source": [
    "## Importancia en las comunicaciones"
   ]
  },
  {
   "cell_type": "markdown",
   "metadata": {},
   "source": [
    "- Evitar cuellos de botellas en las comunicaciones al evitar enviar datos crudos en favor de los datos procesados\n",
    "- Crear o retirar nodos de computación de manera sencilla\n",
    "- Implementación de protocolos dedicados de seguridad informática para cada dispositivo individual"
   ]
  },
  {
   "cell_type": "markdown",
   "metadata": {},
   "source": [
    "Fuente: https://www.stratus.com/edge-computing/\n",
    "https://www.vxchnge.com/blog/the-5-best-benefits-of-edge-computing "
   ]
  }
 ],
 "metadata": {
  "kernelspec": {
   "display_name": "Python 3",
   "language": "python",
   "name": "python3"
  },
  "language_info": {
   "codemirror_mode": {
    "name": "ipython",
    "version": 3
   },
   "file_extension": ".py",
   "mimetype": "text/x-python",
   "name": "python",
   "nbconvert_exporter": "python",
   "pygments_lexer": "ipython3",
   "version": "3.7.6"
  }
 },
 "nbformat": 4,
 "nbformat_minor": 4
}
