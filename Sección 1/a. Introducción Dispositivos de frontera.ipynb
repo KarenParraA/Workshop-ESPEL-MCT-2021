{
 "cells": [
  {
   "cell_type": "markdown",
   "metadata": {},
   "source": [
    "# Introducción a los dispositivos de Frontera"
   ]
  },
  {
   "cell_type": "markdown",
   "metadata": {},
   "source": [
    "En la actualidad, debido al vertiginoso avance tecnológico, los sistemas computacionales han sufrido una brillante evolución, desde potentes supercomputadores capaces de hacer millones de cálculos por segundo, hasta microcomputadores que pueden realizar cálculos básicos a nivel micro. "
   ]
  },
  {
   "cell_type": "markdown",
   "metadata": {},
   "source": [
    " ![Tux, the Linux mascot](Imágenes/SmallestComputer.jpg)"
   ]
  },
  {
   "cell_type": "markdown",
   "metadata": {},
   "source": [
    "La historia de la Mecatrónica y Sistemas de Control no ha sido ajena a esta evolución de potencia y miniaturización de los componentes, el uso de computadores siempre ha estado ligado a estas dos ciencias y las nuevas innovaciones son rápidamente asimiladas por los fabricantes, donde ha aparecido una nueva gama de dispositivos distribuidos que pueden completar,  desde tareas sencillas hasta procedimientos de Inteligencia Artificial."
   ]
  },
  {
   "cell_type": "markdown",
   "metadata": {},
   "source": [
    "# ¿Qué son los dispositivos de frontera?"
   ]
  },
  {
   "cell_type": "markdown",
   "metadata": {},
   "source": [
    "Según Huang [1] la motivación de la computación para dispotivos de frontera, puede ser resumido en dos motivaciones: \n",
    "Primero, preserva la información de privacidad, el dispositivo puede pre-procesar información antes de ser enviada a la nube.\n",
    "Segunda, por la latencia, un dispositivo de frontera puede realizar tareas como de Machine Learning, liberando la red y haciendo la comunicación más robusta"
   ]
  },
  {
   "cell_type": "markdown",
   "metadata": {},
   "source": [
    "Según [2] los dispostivos de frontera han traído transformaciones potenciales al diseño de infraestructura y operaciones, con dramáticas transformaciones en sectores claves de la economía, usualmente estos dispositivos conteinen conectividad e inteligencia localizada, capaces de ser programados independientemente y de ser manejados remotamente, devolviendo información detallada sobre el sistema en cuestión.\n"
   ]
  },
  {
   "cell_type": "markdown",
   "metadata": {},
   "source": [
    "Para el criterio de Kapur[3], la computación par dispositivos de frontera es un sistema que funciona através de una red distribuida de nodos, opuesto a la computación de nube, que centraliza las operaciones. Un dispositivo de frontera, es una unidad funcional que puede ser representado en un nodo y que a su vez conforma una red del Internet de las Cosas(IoT). El objetivo de esta implmentación es proveer análisis de datos de manera más rápida y eficiente. Esta aplicación depende de los dispositivos locales, los centros de datos localizados y centros de datos regionales. Reduciendo la latencia y la cantidad de datos a enviar, que con una correcta aplicación de seguridad, hace la operación distribuida más segura."
   ]
  },
  {
   "cell_type": "markdown",
   "metadata": {},
   "source": [
    "Para Abirami and Chitra [4] son dispositivos limitados en términos de capacidad computacional y de consumo de energía(lo que los hace excelentes para uso de Batería), usados en procesos donde el proceso es sensitivo a la latencia, con retos para construir dispositivos de frontera que puedan inferir en Deep Learning, sorteando la limitida capacidad de éstos. Además de planear un mantenimiento para esta red y respaldo de los datos. "
   ]
  },
  {
   "cell_type": "markdown",
   "metadata": {},
   "source": [
    "Añadir FPGAs Intelligent edge devices such as smart meters, smart routers, and smart inverters are now\n",
    "capable of communicating their operational status, calculating the ramifications\n",
    "of their actions on their surrounding environment and making"
   ]
  },
  {
   "cell_type": "markdown",
   "metadata": {},
   "source": [
    "Referencias"
   ]
  },
  {
   "cell_type": "markdown",
   "metadata": {},
   "source": [
    "Compact and Fast Machine Learning Accelerator for IoT Devices\n"
   ]
  },
  {
   "cell_type": "code",
   "execution_count": null,
   "metadata": {},
   "outputs": [],
   "source": []
  }
 ],
 "metadata": {
  "kernelspec": {
   "display_name": "Python 3",
   "language": "python",
   "name": "python3"
  },
  "language_info": {
   "codemirror_mode": {
    "name": "ipython",
    "version": 3
   },
   "file_extension": ".py",
   "mimetype": "text/x-python",
   "name": "python",
   "nbconvert_exporter": "python",
   "pygments_lexer": "ipython3",
   "version": "3.7.6"
  }
 },
 "nbformat": 4,
 "nbformat_minor": 4
}
