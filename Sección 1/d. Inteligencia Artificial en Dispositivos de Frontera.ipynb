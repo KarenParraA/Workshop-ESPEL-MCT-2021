{
 "cells": [
  {
   "cell_type": "markdown",
   "metadata": {},
   "source": [
    "# Inteligencia Artificial en Dispositivos de Frontera"
   ]
  },
  {
   "cell_type": "markdown",
   "metadata": {},
   "source": [
    "No han sido pocos los esfuerzos por dotar de inteligencia artificial a los dispositivos de frontera, a pesar de su poca capacidad computacional, númerosos esfuerzos en diseño de hardware, librerías de aprendizaje por máquinas o dispositivos de aceleramiento neuronal han sido clave para la mayor adopción de esta nueva tecnología, entre los ejemplos que se pueden mencionar están: "
   ]
  },
  {
   "cell_type": "markdown",
   "metadata": {},
   "source": [
    "## Detección de Patrones"
   ]
  },
  {
   "cell_type": "markdown",
   "metadata": {},
   "source": [
    "Permite el descubrimiento de patronoes y detectar anomalías en datos que provienen de las medidas del dispositivo de frontera, entre los datos comúnmente analizados están la distribución de población, flujo de tráfico, humedad, temperatura, presión."
   ]
  },
  {
   "cell_type": "markdown",
   "metadata": {},
   "source": [
    "## Toma de decisiones en Tiempo real"
   ]
  },
  {
   "cell_type": "markdown",
   "metadata": {},
   "source": [
    "Especialmente útil en ambientes donde las variables cambian muy rápido o se necesita el incremento de eficiencia de operación, ejemplos de estos tipos de sistemas son la planeación de transporte público, control de tráfico o alertas de tráfico."
   ]
  },
  {
   "cell_type": "markdown",
   "metadata": {},
   "source": []
  },
  {
   "cell_type": "markdown",
   "metadata": {},
   "source": [
    "https://viso.ai/edge-ai/edge-intelligence-deep-learning-with-edge-computing/"
   ]
  }
 ],
 "metadata": {
  "kernelspec": {
   "display_name": "Python 3",
   "language": "python",
   "name": "python3"
  },
  "language_info": {
   "codemirror_mode": {
    "name": "ipython",
    "version": 3
   },
   "file_extension": ".py",
   "mimetype": "text/x-python",
   "name": "python",
   "nbconvert_exporter": "python",
   "pygments_lexer": "ipython3",
   "version": "3.7.6"
  }
 },
 "nbformat": 4,
 "nbformat_minor": 4
}
