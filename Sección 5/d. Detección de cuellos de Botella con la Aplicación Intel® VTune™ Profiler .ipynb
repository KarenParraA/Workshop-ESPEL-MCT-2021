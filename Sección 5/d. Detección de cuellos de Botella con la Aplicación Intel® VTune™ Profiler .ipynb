{
 "cells": [
  {
   "cell_type": "markdown",
   "metadata": {},
   "source": [
    "# Detección de cuellos de Botella con la Aplicación Intel® VTune™ Profiler \n",
    "\n",
    "El Perfilado de Aplicaciones(Profiling en inglés) es una técnica muy útil a la hora de reconocer falencias y tiempos perdido en nuestro código, además en ciertos programas, se muestra el consumo de la aplicación por núcleo, RAM, etc. Hay muchos tipos de Profilers en el mercado, tanto de código abierto y cerrado, además hay algunos que no contienen interfaz, como otros que tienen un set de herramientas gráficas para el uso más intuitivo. \n",
    "\n",
    "Los asistentes que deseen probar el software Intel® VTune™ Profiler, lo pueden encontrar en la página de Intel (previo registro) o a través de estos links proporcionados con los instaladores de OpenVINO.\n",
    "- [Instaladores Windows](https://drive.google.com/drive/folders/1dLVGbT-052sVPL2zuzXi2af3_egSdla3?usp=sharing)\n",
    "- [Instaladores Linux](https://drive.google.com/drive/folders/1azB4vdKCS05GnVEhwk_E_Hed5FBh9_Wf?usp=sharing)\n"
   ]
  },
  {
   "cell_type": "code",
   "execution_count": null,
   "metadata": {},
   "outputs": [],
   "source": []
  }
 ],
 "metadata": {
  "kernelspec": {
   "display_name": "Python 3",
   "language": "python",
   "name": "python3"
  },
  "language_info": {
   "codemirror_mode": {
    "name": "ipython",
    "version": 3
   },
   "file_extension": ".py",
   "mimetype": "text/x-python",
   "name": "python",
   "nbconvert_exporter": "python",
   "pygments_lexer": "ipython3",
   "version": "3.7.6"
  }
 },
 "nbformat": 4,
 "nbformat_minor": 4
}
